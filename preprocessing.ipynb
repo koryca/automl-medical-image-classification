{
  "cells": [
    {
      "cell_type": "markdown",
      "metadata": {
        "id": "WFAJuCgIIN0R"
      },
      "source": [
        "# Preparing the Dataset for Modeling"
      ]
    },
    {
      "cell_type": "code",
      "execution_count": null,
      "metadata": {
        "id": "TapwjeDeIN0Z"
      },
      "outputs": [],
      "source": [
        "import os\n",
        "import numpy as np\n",
        "import pandas as pd\n",
        "from google.cloud import storage"
      ]
    },
    {
      "cell_type": "code",
      "execution_count": null,
      "metadata": {
        "id": "JKPmYgsSIN0a"
      },
      "outputs": [],
      "source": [
        "# Instantiates a client\n",
        "storage_client = storage.Client()"
      ]
    },
    {
      "cell_type": "code",
      "execution_count": null,
      "metadata": {
        "id": "VpI6tMuBIN0a"
      },
      "outputs": [],
      "source": [
        "# Define bucket name: change this to your own\n",
        "bucket_name = 'samplemlbox-vcm'"
      ]
    },
    {
      "cell_type": "code",
      "execution_count": null,
      "metadata": {
        "id": "RYQDiWTrIN0a"
      },
      "outputs": [],
      "source": [
        "# Get GCS bucket\n",
        "bucket = storage_client.get_bucket(bucket_name)"
      ]
    },
    {
      "cell_type": "code",
      "execution_count": null,
      "metadata": {
        "id": "lUhY_91iIN0b"
      },
      "outputs": [],
      "source": [
        "# Retrieve blobs in the train dataset\n",
        "blobs = bucket.list_blobs(prefix='samplemlbox-vcm/sign_mnist/sign_mnist_train/')"
      ]
    },
    {
      "cell_type": "code",
      "execution_count": null,
      "metadata": {
        "id": "MlXGGUizIN0c"
      },
      "outputs": [],
      "source": [
        "# Retrieve list of blobs\n",
        "blob_list = []\n",
        "for blob in blobs:\n",
        "    blob_list.append(blob.name)"
      ]
    },
    {
      "cell_type": "code",
      "execution_count": null,
      "metadata": {
        "id": "DscsQEkGIN0c",
        "outputId": "e923e99a-9148-46ef-b864-3d656893109c"
      },
      "outputs": [
        {
          "data": {
            "text/plain": [
              "5219"
            ]
          },
          "execution_count": 55,
          "metadata": {},
          "output_type": "execute_result"
        }
      ],
      "source": [
        "len(blob_list)"
      ]
    },
    {
      "cell_type": "code",
      "execution_count": null,
      "metadata": {
        "id": "_I3PyRFoIN0d",
        "outputId": "56df54b4-db39-42b1-bf1d-817962405fbf"
      },
      "outputs": [
        {
          "name": "stdout",
          "output_type": "stream",
          "text": [
            "chest_xray/chest_xray/train/.DS_Store\n",
            "chest_xray/chest_xray/train/NORMAL/.DS_Store\n"
          ]
        }
      ],
      "source": [
        "print(blob_list[0])\n",
        "print(blob_list[1])"
      ]
    },
    {
      "cell_type": "code",
      "execution_count": null,
      "metadata": {
        "id": "a-f7zMkoIN0e"
      },
      "outputs": [],
      "source": [
        "# Remove .DS_Store from list created by the datasource system\n",
        "# We don't mind doing this O(n) operation because the list size is manageable.\n",
        "# For larger datasets, it may be better to simply delete this file from Google Cloud Storage.\n",
        "\n",
        "# Append the bucket_prefix to the object file path\n",
        "\n",
        "i, length = 0, len(blob_list)\n",
        "bucket_prefix = 'gs://samplemlbox-vcm/'\n",
        "data = []\n",
        "for blob in blob_list:\n",
        "    if '.DS_Store' not in blob:\n",
        "        entry = [''.join([bucket_prefix, blob]), blob.split('/')[3]]\n",
        "        data.append(entry)"
      ]
    },
    {
      "cell_type": "code",
      "execution_count": null,
      "metadata": {
        "id": "rBxbayPBIN0f",
        "outputId": "b0a14aef-1fc2-4b1e-b825-4617c66c72e9"
      },
      "outputs": [
        {
          "name": "stdout",
          "output_type": "stream",
          "text": [
            "['gs://ekabasandbox-vcm/chest_xray/chest_xray/train/NORMAL/IM-0115-0001.jpeg', 'NORMAL']\n",
            "['gs://ekabasandbox-vcm/chest_xray/chest_xray/train/NORMAL/IM-0117-0001.jpeg', 'NORMAL']\n"
          ]
        }
      ],
      "source": [
        "print(data[0])\n",
        "print(data[1])"
      ]
    },
    {
      "cell_type": "code",
      "execution_count": null,
      "metadata": {
        "id": "hX9sdYgzIN0f"
      },
      "outputs": [],
      "source": [
        "# convert to Pandas DataFrame\n",
        "data_pd = pd.DataFrame(np.array(data))"
      ]
    },
    {
      "cell_type": "code",
      "execution_count": null,
      "metadata": {
        "id": "VJDSZw98IN0f"
      },
      "outputs": [],
      "source": [
        "data_pd.to_csv(\"data.csv\", header=None, index=None)"
      ]
    },
    {
      "cell_type": "code",
      "execution_count": null,
      "metadata": {
        "id": "0pXw7LcvIN0f"
      },
      "outputs": [],
      "source": [
        "# Upload data.csv to Google Cloud Storage\n",
        "output_blob = bucket.blob('data.csv')"
      ]
    },
    {
      "cell_type": "code",
      "execution_count": null,
      "metadata": {
        "id": "mUuoi6YUIN0g"
      },
      "outputs": [],
      "source": [
        "output_blob.upload_from_filename('data.csv')"
      ]
    },
    {
      "cell_type": "markdown",
      "metadata": {
        "id": "P7DVc_Z4IN0g"
      },
      "source": [
        "# Finish"
      ]
    }
  ],
  "metadata": {
    "kernelspec": {
      "display_name": "Python 3",
      "language": "python",
      "name": "python3"
    },
    "language_info": {
      "codemirror_mode": {
        "name": "ipython",
        "version": 3
      },
      "file_extension": ".py",
      "mimetype": "text/x-python",
      "name": "python",
      "nbconvert_exporter": "python",
      "pygments_lexer": "ipython3",
      "version": "3.5.3"
    },
    "colab": {
      "name": "preprocessing.ipynb",
      "provenance": []
    }
  },
  "nbformat": 4,
  "nbformat_minor": 0
}